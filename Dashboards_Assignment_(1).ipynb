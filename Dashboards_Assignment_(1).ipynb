{
 "cells": [
  {
   "cell_type": "markdown",
   "id": "6655ee89",
   "metadata": {
    "id": "6655ee89"
   },
   "source": [
    "# 📌 Dashboards Assignment: Interactive Dash Applications\n",
    "\n",
    "## **Objective**  \n",
    "Create Dash applications that demonstrate **State, multiple inputs, and multiple outputs** in interactive dashboards.\n",
    "\n",
    "---"
   ]
  },
  {
   "cell_type": "markdown",
   "id": "ea48e223-c9f9-4b98-bdbb-b0ca151db54e",
   "metadata": {
    "id": "ea48e223-c9f9-4b98-bdbb-b0ca151db54e"
   },
   "source": [
    "\n",
    "## **📝 Task 1: Live Text Update vs. Button-Triggered Update**\n",
    "### **Requirement**\n",
    "- Build a simple Dash app that includes:\n",
    "  - **An input box (`dcc.Input`)** where the user types text.\n",
    "  - **Two ways to update the text display:**\n",
    "    1. **Live Update:** The displayed text updates dynamically as the user types.\n",
    "    2. **Button-Triggered Update:** The displayed text updates **only when a button is clicked**.\n",
    "### **Example Layout**\n",
    "- `dcc.Input`: User enters text.\n",
    "- `html.Button`: Triggers the text update (for `State` example).\n",
    "- `html.H3`: Displays the entered text.\n",
    "\n",
    "---\n"
   ]
  },
  {
   "cell_type": "code",
   "execution_count": 3,
   "id": "d346e6b0-e9ca-4511-9ef7-c12cf962a54c",
   "metadata": {
    "id": "d346e6b0-e9ca-4511-9ef7-c12cf962a54c",
    "outputId": "01441088-9391-4e2f-c3e1-c6acc3cab5cf"
   },
   "outputs": [
    {
     "data": {
      "text/html": [
       "\n",
       "        <iframe\n",
       "            width=\"100%\"\n",
       "            height=\"650\"\n",
       "            src=\"http://127.0.0.1:8058/\"\n",
       "            frameborder=\"0\"\n",
       "            allowfullscreen\n",
       "            \n",
       "        ></iframe>\n",
       "        "
      ],
      "text/plain": [
       "<IPython.lib.display.IFrame at 0x204e9ea7710>"
      ]
     },
     "metadata": {},
     "output_type": "display_data"
    }
   ],
   "source": [
    "import dash\n",
    "from dash import dcc, html, Input, Output, State\n",
    "\n",
    "# Initialize the Dash app\n",
    "app = dash.Dash(__name__)\n",
    "\n",
    "# Define the layout of the app\n",
    "app.layout = html.Div([\n",
    "    html.H2(\"Live and Button-Controlled Text Display\"),\n",
    "\n",
    "    html.Label(\"Type something:\"),\n",
    "    dcc.Input(id='input-box', type='text', value='', style={'marginRight': '10px'}),\n",
    "\n",
    "    html.Button('Update Text', id='update-button', n_clicks=0),\n",
    "\n",
    "    html.H3(\"Live Update Output:\"),\n",
    "    html.Div(id='live-output'),\n",
    "\n",
    "    html.H3(\"Button-Triggered Output:\"),\n",
    "    html.Div(id='button-output')\n",
    "])\n",
    "\n",
    "# Live update callback\n",
    "@app.callback(\n",
    "    Output('live-output', 'children'),\n",
    "    Input('input-box', 'value')\n",
    ")\n",
    "def update_live_output(input_text):\n",
    "    return input_text  # Display text live as user types\n",
    "\n",
    "# Button-triggered update callback\n",
    "@app.callback(\n",
    "    Output('button-output', 'children'),\n",
    "    Input('update-button', 'n_clicks'),\n",
    "    State('input-box', 'value')\n",
    ")\n",
    "def update_on_click(n_clicks, input_text):\n",
    "    return input_text if n_clicks > 0 else ''  # Display text after button click\n",
    "\n",
    "# Run the app on port 8058\n",
    "if __name__ == '__main__':\n",
    "    app.run(debug=True, port=8058)"
   ]
  },
  {
   "cell_type": "markdown",
   "id": "9069bfa8-0961-41c2-85f4-37add3f9ab8b",
   "metadata": {
    "id": "9069bfa8-0961-41c2-85f4-37add3f9ab8b"
   },
   "source": [
    "---\n",
    "\n",
    "## **📝 Task 2: Interactive Chart with Multiple Inputs**\n",
    "### **Requirement**\n",
    "- Build a **data visualization dashboard** where:\n",
    "  - A user selects a **country** from a dropdown menu.\n",
    "  - A slider allows adjusting the **year range** for data filtering.\n",
    "  - A **line chart (`dcc.Graph`)** updates dynamically to show trends based on both inputs.\n",
    "\n",
    "### **Example Layout**\n",
    "- `dcc.Dropdown`: Select a country.\n",
    "- `dcc.RangeSlider`: Select a year range.\n",
    "- `dcc.Graph`: Displays filtered data as a line chart.\n",
    "\n",
    "---\n"
   ]
  },
  {
   "cell_type": "code",
   "execution_count": 4,
   "id": "5871260c-46f5-42da-ab02-29bf0323507d",
   "metadata": {
    "colab": {
     "base_uri": "https://localhost:8080/",
     "height": 672
    },
    "id": "5871260c-46f5-42da-ab02-29bf0323507d",
    "outputId": "82bae743-8375-494d-aa3f-8f27ee03112e"
   },
   "outputs": [
    {
     "data": {
      "text/html": [
       "\n",
       "        <iframe\n",
       "            width=\"100%\"\n",
       "            height=\"650\"\n",
       "            src=\"http://127.0.0.1:8055/\"\n",
       "            frameborder=\"0\"\n",
       "            allowfullscreen\n",
       "            \n",
       "        ></iframe>\n",
       "        "
      ],
      "text/plain": [
       "<IPython.lib.display.IFrame at 0x204ef57d820>"
      ]
     },
     "metadata": {},
     "output_type": "display_data"
    }
   ],
   "source": [
    "import dash\n",
    "from dash import dcc, html, Input, Output\n",
    "import pandas as pd\n",
    "import plotly.express as px\n",
    "\n",
    "# Sample data for 6 countries with trend values over the years\n",
    "years = list(range(2000, 2021))\n",
    "data = {\n",
    "    'Year': years * 6,\n",
    "    'Country': (\n",
    "        ['Egypt'] * len(years) +\n",
    "        ['USA'] * len(years) +\n",
    "        ['Germany'] * len(years) +\n",
    "        ['India'] * len(years) +\n",
    "        ['China'] * len(years) +\n",
    "        ['Brazil'] * len(years)\n",
    "    ),\n",
    "    'Value': (\n",
    "        [x * 2 for x in years] +         # Egypt\n",
    "        [x * 3 for x in years] +         # USA\n",
    "        [x * 1.5 for x in years] +       # Germany\n",
    "        [x * 2.5 for x in years] +       # India\n",
    "        [x * 4 for x in years] +         # China\n",
    "        [x * 1.8 for x in years]         # Brazil\n",
    "    )\n",
    "}\n",
    "\n",
    "# Convert the data into a DataFrame\n",
    "df = pd.DataFrame(data)\n",
    "\n",
    "# Initialize the Dash app\n",
    "app = dash.Dash(__name__)\n",
    "\n",
    "# Define the layout of the app\n",
    "app.layout = html.Div([\n",
    "    html.H2(\"📊 Country Trends Dashboard\"),\n",
    "\n",
    "    # Dropdown for selecting a country\n",
    "    html.Label(\"Select a country:\"),\n",
    "    dcc.Dropdown(\n",
    "        id='country-dropdown',\n",
    "        options=[{'label': c, 'value': c} for c in df['Country'].unique()],\n",
    "        value='Egypt'  # Default value\n",
    "    ),\n",
    "\n",
    "    # Range slider for selecting year range\n",
    "    html.Label(\"Select year range:\"),\n",
    "    dcc.RangeSlider(\n",
    "        id='year-range-slider',\n",
    "        min=df['Year'].min(),\n",
    "        max=df['Year'].max(),\n",
    "        step=1,\n",
    "        value=[2005, 2015],  # Default value\n",
    "        marks={str(year): str(year) for year in range(df['Year'].min(), df['Year'].max() + 1, 5)}\n",
    "    ),\n",
    "\n",
    "    # Graph for displaying the data\n",
    "    dcc.Graph(id='line-chart')\n",
    "])\n",
    "\n",
    "# Callback function to update the graph based on user input\n",
    "@app.callback(\n",
    "    Output('line-chart', 'figure'),\n",
    "    Input('country-dropdown', 'value'),\n",
    "    Input('year-range-slider', 'value')\n",
    ")\n",
    "def update_chart(selected_country, year_range):\n",
    "    # Filter data based on selected country and year range\n",
    "    filtered_df = df[\n",
    "        (df['Country'] == selected_country) &\n",
    "        (df['Year'] >= year_range[0]) &\n",
    "        (df['Year'] <= year_range[1])\n",
    "    ]\n",
    "    # Create the line chart\n",
    "    fig = px.line(filtered_df, x='Year', y='Value',\n",
    "                  title=f\"{selected_country} Data from {year_range[0]} to {year_range[1]}\")\n",
    "    return fig\n",
    "\n",
    "# Run the server on port 8055\n",
    "if __name__ == '__main__':\n",
    "    app.run(debug=True, port=8055, use_reloader=False)"
   ]
  },
  {
   "cell_type": "markdown",
   "id": "6e5de9ff-b521-47cb-a3f6-b673f28f5507",
   "metadata": {
    "id": "6e5de9ff-b521-47cb-a3f6-b673f28f5507"
   },
   "source": [
    "\n",
    "---\n",
    "\n",
    "## **📝 Task 3: Multiple Outputs - Interactive UI Updates**\n",
    "### **Requirement**\n",
    "- Create an interactive dashboard where clicking a button updates **two components simultaneously**:\n",
    "  - A **text component (`H3`)** displaying how many times the button has been clicked.\n",
    "  - A **background color of a div (`html.Div`)**, which changes color randomly on each click.\n",
    "\n",
    "### **Example Layout**\n",
    "- `html.Button`: Click to trigger updates.\n",
    "- `html.H3`: Displays the number of clicks.\n",
    "- `html.Div`: Background color changes dynamically.\n",
    "\n",
    "---\n"
   ]
  },
  {
   "cell_type": "code",
   "execution_count": 8,
   "id": "b76915b3-d469-4ad3-8038-d9e4d66bc682",
   "metadata": {
    "colab": {
     "base_uri": "https://localhost:8080/",
     "height": 672
    },
    "id": "b76915b3-d469-4ad3-8038-d9e4d66bc682",
    "outputId": "d65bc9c0-a66f-4abe-8bff-cd7b0b380874"
   },
   "outputs": [
    {
     "data": {
      "text/html": [
       "\n",
       "        <iframe\n",
       "            width=\"100%\"\n",
       "            height=\"650\"\n",
       "            src=\"http://127.0.0.1:8049/\"\n",
       "            frameborder=\"0\"\n",
       "            allowfullscreen\n",
       "            \n",
       "        ></iframe>\n",
       "        "
      ],
      "text/plain": [
       "<IPython.lib.display.IFrame at 0x204f022a420>"
      ]
     },
     "metadata": {},
     "output_type": "display_data"
    }
   ],
   "source": [
    "import dash\n",
    "from dash import html, Input, Output, State\n",
    "import random\n",
    "\n",
    "# Initialize Dash app\n",
    "app = dash.Dash(__name__)\n",
    "\n",
    "# Function to generate a random hex color\n",
    "def get_random_color():\n",
    "    return f\"#{random.randint(0, 0xFFFFFF):06x}\"\n",
    "\n",
    "# Layout\n",
    "app.layout = html.Div([\n",
    "    html.H2(\"🎨 Button Click & Color Display\"),\n",
    "\n",
    "    html.Button(\"Click Me!\", id='click-button', n_clicks=0),\n",
    "\n",
    "    html.H3(id='click-count', children=\"Button clicked 0 times\"),\n",
    "\n",
    "    html.Div(\n",
    "        id='color-box',\n",
    "        children='Color: #f0f0f0',  # Initial color label\n",
    "        style={\n",
    "            'height': '200px',\n",
    "            'marginTop': '20px',\n",
    "            'backgroundColor': '#f0f0f0',\n",
    "            'border': '2px solid black',\n",
    "            'textAlign': 'center',\n",
    "            'lineHeight': '200px',\n",
    "            'fontWeight': 'bold',\n",
    "            'fontSize': '20px'\n",
    "        }\n",
    "    )\n",
    "])\n",
    "\n",
    "# Callback to update both text and box color + label\n",
    "@app.callback(\n",
    "    Output('click-count', 'children'),\n",
    "    Output('color-box', 'style'),\n",
    "    Output('color-box', 'children'),\n",
    "    Input('click-button', 'n_clicks'),\n",
    "    State('color-box', 'style')\n",
    ")\n",
    "def update_output(n_clicks, current_style):\n",
    "    # Generate a random color\n",
    "    new_color = get_random_color()\n",
    "\n",
    "    # Update style\n",
    "    updated_style = current_style.copy()\n",
    "    updated_style['backgroundColor'] = new_color\n",
    "\n",
    "    # Update text\n",
    "    click_text = f\"Button clicked {n_clicks} times\"\n",
    "    color_text = f\"Color: {new_color}\"\n",
    "\n",
    "    return click_text, updated_style, color_text\n",
    "\n",
    "if __name__ == '__main__':\n",
    "    app.run(debug=True, port=8049, use_reloader=False)"
   ]
  },
  {
   "cell_type": "markdown",
   "id": "f816aecb-3e63-4dea-9fec-53a7e455e81c",
   "metadata": {
    "id": "f816aecb-3e63-4dea-9fec-53a7e455e81c"
   },
   "source": [
    "---\n",
    "# 📌 Task 4: Interactive Scatter Plot with User Controls using NumPy & Dash\n",
    "\n",
    "## 🔹 Objective\n",
    "Build an **interactive scatter plot** where users can dynamically select:\n",
    "- The **X-axis feature** (e.g., numerical values from the dataset).\n",
    "- The **Y-axis feature** (another numerical column).\n",
    "\n",
    "We will generate **synthetic data** using **NumPy** instead of using built-in datasets like Iris.\n",
    "\n",
    "## 🔹 How It Works\n",
    "### **1️⃣ Generate Random Data using NumPy**\n",
    "# Create a dataset with 500 random points\n",
    "\n",
    "```python\n",
    "num_samples = 500\n",
    "- Feature_A: Normally distributed values around 50 with a standard deviation of 15. (X)\n",
    "\n",
    "     np.random.normal(50, 15, num_samples)\n",
    "- Feature_B: Random values uniformly distributed between 10 and 100. (Y)\n",
    "\n",
    "     np.random.uniform(10, 100, num_samples)\n",
    "- Feature_C: Random integer values between 1 and 100. (Z)                                                   \n",
    "          \n",
    "    np.random.randint(1, 100, num_samples)"
   ]
  },
  {
   "cell_type": "markdown",
   "id": "2229a682-06a5-43a6-8783-af096e6b04e5",
   "metadata": {
    "id": "2229a682-06a5-43a6-8783-af096e6b04e5"
   },
   "source": [
    "### **2️⃣ Build an Interactive Dashboard using Dash**\n",
    "- Users can choose **X and Y** or **Z and Y**  features from dropdown menus.\n",
    "- A **scatter plot dynamically updates** based on the selections.\n",
    "\n",
    "---"
   ]
  },
  {
   "cell_type": "code",
   "execution_count": 11,
   "id": "0925fa97-617f-45e2-9778-f806b5917030",
   "metadata": {
    "colab": {
     "base_uri": "https://localhost:8080/",
     "height": 672
    },
    "id": "0925fa97-617f-45e2-9778-f806b5917030",
    "outputId": "01e80d1a-b58e-4046-9db7-66af894c64fa"
   },
   "outputs": [
    {
     "data": {
      "text/html": [
       "\n",
       "        <iframe\n",
       "            width=\"100%\"\n",
       "            height=\"650\"\n",
       "            src=\"http://127.0.0.1:8045/\"\n",
       "            frameborder=\"0\"\n",
       "            allowfullscreen\n",
       "            \n",
       "        ></iframe>\n",
       "        "
      ],
      "text/plain": [
       "<IPython.lib.display.IFrame at 0x204f1599e50>"
      ]
     },
     "metadata": {},
     "output_type": "display_data"
    }
   ],
   "source": [
    "import dash\n",
    "from dash import dcc, html, Input, Output\n",
    "import numpy as np\n",
    "import plotly.express as px\n",
    "import pandas as pd\n",
    "\n",
    "# Generate random data using NumPy\n",
    "num_samples = 500\n",
    "np.random.seed(42)\n",
    "\n",
    "# Feature_A: Normally distributed around 50 with std dev of 15\n",
    "feature_A = np.random.normal(50, 15, num_samples)\n",
    "\n",
    "# Feature_B: Uniform distribution between 10 and 100\n",
    "feature_B = np.random.uniform(10, 100, num_samples)\n",
    "\n",
    "# Feature_C: Random integers between 1 and 100\n",
    "feature_C = np.random.randint(1, 100, num_samples)\n",
    "\n",
    "# Create a DataFrame with the generated features\n",
    "df = pd.DataFrame({\n",
    "    'Feature_A': feature_A,\n",
    "    'Feature_B': feature_B,\n",
    "    'Feature_C': feature_C\n",
    "})\n",
    "\n",
    "# Initialize the app\n",
    "app = dash.Dash(__name__)\n",
    "\n",
    "# Layout of the app\n",
    "app.layout = html.Div([\n",
    "    html.H2(\"📊 Interactive Scatter Plot with User Controls\"),\n",
    "\n",
    "    html.Label(\"Select X-axis feature:\"),\n",
    "    dcc.Dropdown(\n",
    "        id='x-axis-dropdown',\n",
    "        options=[\n",
    "            {'label': 'Feature A', 'value': 'Feature_A'},\n",
    "            {'label': 'Feature B', 'value': 'Feature_B'},\n",
    "            {'label': 'Feature C', 'value': 'Feature_C'}\n",
    "        ],\n",
    "        value='Feature_A',  # Default selection\n",
    "    ),\n",
    "\n",
    "    html.Label(\"Select Y-axis feature:\"),\n",
    "    dcc.Dropdown(\n",
    "        id='y-axis-dropdown',\n",
    "        options=[\n",
    "            {'label': 'Feature A', 'value': 'Feature_A'},\n",
    "            {'label': 'Feature B', 'value': 'Feature_B'},\n",
    "            {'label': 'Feature C', 'value': 'Feature_C'}\n",
    "        ],\n",
    "        value='Feature_B',  # Default selection\n",
    "    ),\n",
    "\n",
    "    dcc.Graph(id='scatter-plot')\n",
    "])\n",
    "\n",
    "# Callback to update the scatter plot based on the user's selections\n",
    "@app.callback(\n",
    "    Output('scatter-plot', 'figure'),\n",
    "    Input('x-axis-dropdown', 'value'),\n",
    "    Input('y-axis-dropdown', 'value')\n",
    ")\n",
    "def update_scatter_plot(x_axis, y_axis):\n",
    "    # Create a scatter plot based on selected features\n",
    "    fig = px.scatter(df, x=x_axis, y=y_axis, title=f\"{x_axis} vs {y_axis}\",\n",
    "                     labels={x_axis: x_axis, y_axis: y_axis})\n",
    "    return fig\n",
    "\n",
    "if __name__ == '__main__':\n",
    "    app.run(debug=True, port=8045, use_reloader=False)"
   ]
  },
  {
   "cell_type": "code",
   "execution_count": null,
   "id": "f631c090-2c2d-4d37-8815-10e77c481660",
   "metadata": {},
   "outputs": [],
   "source": []
  }
 ],
 "metadata": {
  "colab": {
   "provenance": []
  },
  "kernelspec": {
   "display_name": "Python 3 (ipykernel)",
   "language": "python",
   "name": "python3"
  },
  "language_info": {
   "codemirror_mode": {
    "name": "ipython",
    "version": 3
   },
   "file_extension": ".py",
   "mimetype": "text/x-python",
   "name": "python",
   "nbconvert_exporter": "python",
   "pygments_lexer": "ipython3",
   "version": "3.12.7"
  }
 },
 "nbformat": 4,
 "nbformat_minor": 5
}
